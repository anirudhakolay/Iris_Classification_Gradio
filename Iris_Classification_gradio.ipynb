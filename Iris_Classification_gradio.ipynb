{
  "nbformat": 4,
  "nbformat_minor": 0,
  "metadata": {
    "colab": {
      "provenance": []
    },
    "kernelspec": {
      "name": "python3",
      "display_name": "Python 3"
    },
    "language_info": {
      "name": "python"
    }
  },
  "cells": [
    {
      "cell_type": "code",
      "execution_count": 2,
      "metadata": {
        "colab": {
          "base_uri": "https://localhost:8080/",
          "height": 645
        },
        "id": "oWQQ9gpC08Z4",
        "outputId": "73fabc46-7863-4db5-cc34-80f5fb1b35e8"
      },
      "outputs": [
        {
          "output_type": "stream",
          "name": "stdout",
          "text": [
            "It looks like you are running Gradio on a hosted a Jupyter notebook. For the Gradio app to work, sharing must be enabled. Automatically setting `share=True` (you can turn this off by setting `share=False` in `launch()` explicitly).\n",
            "\n",
            "Colab notebook detected. To show errors in colab notebook, set debug=True in launch()\n",
            "* Running on public URL: https://baf41704c091c9c365.gradio.live\n",
            "\n",
            "This share link expires in 1 week. For free permanent hosting and GPU upgrades, run `gradio deploy` from the terminal in the working directory to deploy to Hugging Face Spaces (https://huggingface.co/spaces)\n"
          ]
        },
        {
          "output_type": "display_data",
          "data": {
            "text/plain": [
              "<IPython.core.display.HTML object>"
            ],
            "text/html": [
              "<div><iframe src=\"https://baf41704c091c9c365.gradio.live\" width=\"100%\" height=\"500\" allow=\"autoplay; camera; microphone; clipboard-read; clipboard-write;\" frameborder=\"0\" allowfullscreen></iframe></div>"
            ]
          },
          "metadata": {}
        },
        {
          "output_type": "execute_result",
          "data": {
            "text/plain": []
          },
          "metadata": {},
          "execution_count": 2
        }
      ],
      "source": [
        "import gradio as gr\n",
        "from sklearn.datasets import load_iris\n",
        "from sklearn.ensemble import RandomForestClassifier\n",
        "import pandas as pd\n",
        "\n",
        "\n",
        "#Load datasets\n",
        "iris = load_iris()\n",
        "X = pd.DataFrame(iris.data, columns = iris.feature_names)\n",
        "y = iris.target\n",
        "model = RandomForestClassifier()\n",
        "model.fit(X,y)\n",
        "\n",
        "#Define prediction function\n",
        "def predict(sepal_length, sepal_width, petal_length, petal_width):\n",
        "    input_data = [[sepal_length, sepal_width, petal_length, petal_width]]\n",
        "    prediction = model.predict(input_data)[0]\n",
        "    return iris.target_names[prediction]\n",
        "\n",
        "#Create Gradio interface\n",
        "interface = gr.Interface(\n",
        "    fn = predict,\n",
        "    inputs = [\n",
        "        gr.Slider(4.0,8.0, label = \"sepal length (cm)\"),\n",
        "        gr.Slider(2.0,4.5, label = \"sepal Width (cm)\"),\n",
        "        gr.Textbox(1.0,7.0, label = \"Petal length (cm)\"),\n",
        "        gr.Textbox(0.1,2.5, label = \"Petal Width (cm)\")\n",
        "    ],\n",
        "    outputs=\"text\",\n",
        "    title=\"Iris Flower Classification\",\n",
        "    description = \"Enter sepal and petal dimensions to predict the species\"\n",
        ")\n",
        "\n",
        "#Launch app\n",
        "interface.launch()"
      ]
    },
    {
      "cell_type": "code",
      "source": [],
      "metadata": {
        "id": "jA4ojF7e1AS0"
      },
      "execution_count": null,
      "outputs": []
    }
  ]
}